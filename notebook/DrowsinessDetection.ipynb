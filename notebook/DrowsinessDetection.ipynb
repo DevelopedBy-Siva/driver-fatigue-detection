{
 "cells": [
  {
   "cell_type": "markdown",
   "id": "292e10ef",
   "metadata": {},
   "source": [
    "# Driver Fatigue Detection using CNN\n",
    "\n",
    "Implemented a Convolutional Neural Network (CNN) to classify eyes as either open or closed, also employed facial recognition techniques to identify eye coordinates in real time."
   ]
  },
  {
   "cell_type": "markdown",
   "id": "01f2eb1a",
   "metadata": {},
   "source": [
    "\n",
    "## Setup the environment"
   ]
  },
  {
   "cell_type": "code",
   "execution_count": 1,
   "id": "6276b24b",
   "metadata": {
    "ExecuteTime": {
     "end_time": "2024-06-09T14:26:13.392494Z",
     "start_time": "2024-06-09T14:26:12.183230Z"
    }
   },
   "outputs": [
    {
     "name": "stdout",
     "output_type": "stream",
     "text": [
      "Requirement already satisfied: tensorflow in /Users/technophyle/Code/edge-server/driver-fatigue-detection/.venv/lib/python3.9/site-packages (2.16.1)\r\n",
      "Requirement already satisfied: scikit-learn in /Users/technophyle/Code/edge-server/driver-fatigue-detection/.venv/lib/python3.9/site-packages (1.4.2)\r\n",
      "Requirement already satisfied: opencv-python in /Users/technophyle/Code/edge-server/driver-fatigue-detection/.venv/lib/python3.9/site-packages (4.9.0.80)\r\n",
      "Requirement already satisfied: numpy in /Users/technophyle/Code/edge-server/driver-fatigue-detection/.venv/lib/python3.9/site-packages (1.26.4)\r\n",
      "Requirement already satisfied: matplotlib in /Users/technophyle/Code/edge-server/driver-fatigue-detection/.venv/lib/python3.9/site-packages (3.8.4)\r\n",
      "Requirement already satisfied: face_recognition in /Users/technophyle/Code/edge-server/driver-fatigue-detection/.venv/lib/python3.9/site-packages (1.3.0)\r\n",
      "Requirement already satisfied: absl-py>=1.0.0 in /Users/technophyle/Code/edge-server/driver-fatigue-detection/.venv/lib/python3.9/site-packages (from tensorflow) (2.1.0)\r\n",
      "Requirement already satisfied: astunparse>=1.6.0 in /Users/technophyle/Code/edge-server/driver-fatigue-detection/.venv/lib/python3.9/site-packages (from tensorflow) (1.6.3)\r\n",
      "Requirement already satisfied: flatbuffers>=23.5.26 in /Users/technophyle/Code/edge-server/driver-fatigue-detection/.venv/lib/python3.9/site-packages (from tensorflow) (24.3.25)\r\n",
      "Requirement already satisfied: gast!=0.5.0,!=0.5.1,!=0.5.2,>=0.2.1 in /Users/technophyle/Code/edge-server/driver-fatigue-detection/.venv/lib/python3.9/site-packages (from tensorflow) (0.5.4)\r\n",
      "Requirement already satisfied: google-pasta>=0.1.1 in /Users/technophyle/Code/edge-server/driver-fatigue-detection/.venv/lib/python3.9/site-packages (from tensorflow) (0.2.0)\r\n",
      "Requirement already satisfied: h5py>=3.10.0 in /Users/technophyle/Code/edge-server/driver-fatigue-detection/.venv/lib/python3.9/site-packages (from tensorflow) (3.11.0)\r\n",
      "Requirement already satisfied: libclang>=13.0.0 in /Users/technophyle/Code/edge-server/driver-fatigue-detection/.venv/lib/python3.9/site-packages (from tensorflow) (18.1.1)\r\n",
      "Requirement already satisfied: ml-dtypes~=0.3.1 in /Users/technophyle/Code/edge-server/driver-fatigue-detection/.venv/lib/python3.9/site-packages (from tensorflow) (0.3.2)\r\n",
      "Requirement already satisfied: opt-einsum>=2.3.2 in /Users/technophyle/Code/edge-server/driver-fatigue-detection/.venv/lib/python3.9/site-packages (from tensorflow) (3.3.0)\r\n",
      "Requirement already satisfied: packaging in /Users/technophyle/Code/edge-server/driver-fatigue-detection/.venv/lib/python3.9/site-packages (from tensorflow) (24.0)\r\n",
      "Requirement already satisfied: protobuf!=4.21.0,!=4.21.1,!=4.21.2,!=4.21.3,!=4.21.4,!=4.21.5,<5.0.0dev,>=3.20.3 in /Users/technophyle/Code/edge-server/driver-fatigue-detection/.venv/lib/python3.9/site-packages (from tensorflow) (4.25.3)\r\n",
      "Requirement already satisfied: requests<3,>=2.21.0 in /Users/technophyle/Code/edge-server/driver-fatigue-detection/.venv/lib/python3.9/site-packages (from tensorflow) (2.31.0)\r\n",
      "Requirement already satisfied: setuptools in /Users/technophyle/Code/edge-server/driver-fatigue-detection/.venv/lib/python3.9/site-packages (from tensorflow) (69.2.0)\r\n",
      "Requirement already satisfied: six>=1.12.0 in /Users/technophyle/Code/edge-server/driver-fatigue-detection/.venv/lib/python3.9/site-packages (from tensorflow) (1.16.0)\r\n",
      "Requirement already satisfied: termcolor>=1.1.0 in /Users/technophyle/Code/edge-server/driver-fatigue-detection/.venv/lib/python3.9/site-packages (from tensorflow) (2.4.0)\r\n",
      "Requirement already satisfied: typing-extensions>=3.6.6 in /Users/technophyle/Code/edge-server/driver-fatigue-detection/.venv/lib/python3.9/site-packages (from tensorflow) (4.11.0)\r\n",
      "Requirement already satisfied: wrapt>=1.11.0 in /Users/technophyle/Code/edge-server/driver-fatigue-detection/.venv/lib/python3.9/site-packages (from tensorflow) (1.16.0)\r\n",
      "Requirement already satisfied: grpcio<2.0,>=1.24.3 in /Users/technophyle/Code/edge-server/driver-fatigue-detection/.venv/lib/python3.9/site-packages (from tensorflow) (1.62.1)\r\n",
      "Requirement already satisfied: tensorboard<2.17,>=2.16 in /Users/technophyle/Code/edge-server/driver-fatigue-detection/.venv/lib/python3.9/site-packages (from tensorflow) (2.16.2)\r\n",
      "Requirement already satisfied: keras>=3.0.0 in /Users/technophyle/Code/edge-server/driver-fatigue-detection/.venv/lib/python3.9/site-packages (from tensorflow) (3.2.1)\r\n",
      "Requirement already satisfied: tensorflow-io-gcs-filesystem>=0.23.1 in /Users/technophyle/Code/edge-server/driver-fatigue-detection/.venv/lib/python3.9/site-packages (from tensorflow) (0.36.0)\r\n",
      "Requirement already satisfied: scipy>=1.6.0 in /Users/technophyle/Code/edge-server/driver-fatigue-detection/.venv/lib/python3.9/site-packages (from scikit-learn) (1.13.0)\r\n",
      "Requirement already satisfied: joblib>=1.2.0 in /Users/technophyle/Code/edge-server/driver-fatigue-detection/.venv/lib/python3.9/site-packages (from scikit-learn) (1.4.0)\r\n",
      "Requirement already satisfied: threadpoolctl>=2.0.0 in /Users/technophyle/Code/edge-server/driver-fatigue-detection/.venv/lib/python3.9/site-packages (from scikit-learn) (3.4.0)\r\n",
      "Requirement already satisfied: contourpy>=1.0.1 in /Users/technophyle/Code/edge-server/driver-fatigue-detection/.venv/lib/python3.9/site-packages (from matplotlib) (1.2.1)\r\n",
      "Requirement already satisfied: cycler>=0.10 in /Users/technophyle/Code/edge-server/driver-fatigue-detection/.venv/lib/python3.9/site-packages (from matplotlib) (0.12.1)\r\n",
      "Requirement already satisfied: fonttools>=4.22.0 in /Users/technophyle/Code/edge-server/driver-fatigue-detection/.venv/lib/python3.9/site-packages (from matplotlib) (4.51.0)\r\n",
      "Requirement already satisfied: kiwisolver>=1.3.1 in /Users/technophyle/Code/edge-server/driver-fatigue-detection/.venv/lib/python3.9/site-packages (from matplotlib) (1.4.5)\r\n",
      "Requirement already satisfied: pillow>=8 in /Users/technophyle/Code/edge-server/driver-fatigue-detection/.venv/lib/python3.9/site-packages (from matplotlib) (10.3.0)\r\n",
      "Requirement already satisfied: pyparsing>=2.3.1 in /Users/technophyle/Code/edge-server/driver-fatigue-detection/.venv/lib/python3.9/site-packages (from matplotlib) (3.1.2)\r\n",
      "Requirement already satisfied: python-dateutil>=2.7 in /Users/technophyle/Code/edge-server/driver-fatigue-detection/.venv/lib/python3.9/site-packages (from matplotlib) (2.9.0.post0)\r\n",
      "Requirement already satisfied: importlib-resources>=3.2.0 in /Users/technophyle/Code/edge-server/driver-fatigue-detection/.venv/lib/python3.9/site-packages (from matplotlib) (6.4.0)\r\n",
      "Requirement already satisfied: face-recognition-models>=0.3.0 in /Users/technophyle/Code/edge-server/driver-fatigue-detection/.venv/lib/python3.9/site-packages (from face_recognition) (0.3.0)\r\n",
      "Requirement already satisfied: Click>=6.0 in /Users/technophyle/Code/edge-server/driver-fatigue-detection/.venv/lib/python3.9/site-packages (from face_recognition) (8.1.7)\r\n",
      "Requirement already satisfied: dlib>=19.7 in /Users/technophyle/Code/edge-server/driver-fatigue-detection/.venv/lib/python3.9/site-packages (from face_recognition) (19.24.4)\r\n",
      "Requirement already satisfied: wheel<1.0,>=0.23.0 in /Users/technophyle/Code/edge-server/driver-fatigue-detection/.venv/lib/python3.9/site-packages (from astunparse>=1.6.0->tensorflow) (0.38.4)\r\n",
      "Requirement already satisfied: zipp>=3.1.0 in /Users/technophyle/Code/edge-server/driver-fatigue-detection/.venv/lib/python3.9/site-packages (from importlib-resources>=3.2.0->matplotlib) (3.18.1)\r\n",
      "Requirement already satisfied: rich in /Users/technophyle/Code/edge-server/driver-fatigue-detection/.venv/lib/python3.9/site-packages (from keras>=3.0.0->tensorflow) (13.7.1)\r\n",
      "Requirement already satisfied: namex in /Users/technophyle/Code/edge-server/driver-fatigue-detection/.venv/lib/python3.9/site-packages (from keras>=3.0.0->tensorflow) (0.0.7)\r\n",
      "Requirement already satisfied: optree in /Users/technophyle/Code/edge-server/driver-fatigue-detection/.venv/lib/python3.9/site-packages (from keras>=3.0.0->tensorflow) (0.11.0)\r\n",
      "Requirement already satisfied: charset-normalizer<4,>=2 in /Users/technophyle/Code/edge-server/driver-fatigue-detection/.venv/lib/python3.9/site-packages (from requests<3,>=2.21.0->tensorflow) (3.3.2)\r\n",
      "Requirement already satisfied: idna<4,>=2.5 in /Users/technophyle/Code/edge-server/driver-fatigue-detection/.venv/lib/python3.9/site-packages (from requests<3,>=2.21.0->tensorflow) (3.7)\r\n",
      "Requirement already satisfied: urllib3<3,>=1.21.1 in /Users/technophyle/Code/edge-server/driver-fatigue-detection/.venv/lib/python3.9/site-packages (from requests<3,>=2.21.0->tensorflow) (2.2.1)\r\n",
      "Requirement already satisfied: certifi>=2017.4.17 in /Users/technophyle/Code/edge-server/driver-fatigue-detection/.venv/lib/python3.9/site-packages (from requests<3,>=2.21.0->tensorflow) (2024.2.2)\r\n",
      "Requirement already satisfied: markdown>=2.6.8 in /Users/technophyle/Code/edge-server/driver-fatigue-detection/.venv/lib/python3.9/site-packages (from tensorboard<2.17,>=2.16->tensorflow) (3.6)\r\n",
      "Requirement already satisfied: tensorboard-data-server<0.8.0,>=0.7.0 in /Users/technophyle/Code/edge-server/driver-fatigue-detection/.venv/lib/python3.9/site-packages (from tensorboard<2.17,>=2.16->tensorflow) (0.7.2)\r\n",
      "Requirement already satisfied: werkzeug>=1.0.1 in /Users/technophyle/Code/edge-server/driver-fatigue-detection/.venv/lib/python3.9/site-packages (from tensorboard<2.17,>=2.16->tensorflow) (3.0.2)\r\n",
      "Requirement already satisfied: importlib-metadata>=4.4 in /Users/technophyle/Code/edge-server/driver-fatigue-detection/.venv/lib/python3.9/site-packages (from markdown>=2.6.8->tensorboard<2.17,>=2.16->tensorflow) (7.1.0)\r\n",
      "Requirement already satisfied: MarkupSafe>=2.1.1 in /Users/technophyle/Code/edge-server/driver-fatigue-detection/.venv/lib/python3.9/site-packages (from werkzeug>=1.0.1->tensorboard<2.17,>=2.16->tensorflow) (2.1.5)\r\n",
      "Requirement already satisfied: markdown-it-py>=2.2.0 in /Users/technophyle/Code/edge-server/driver-fatigue-detection/.venv/lib/python3.9/site-packages (from rich->keras>=3.0.0->tensorflow) (3.0.0)\r\n",
      "Requirement already satisfied: pygments<3.0.0,>=2.13.0 in /Users/technophyle/Code/edge-server/driver-fatigue-detection/.venv/lib/python3.9/site-packages (from rich->keras>=3.0.0->tensorflow) (2.17.2)\r\n",
      "Requirement already satisfied: mdurl~=0.1 in /Users/technophyle/Code/edge-server/driver-fatigue-detection/.venv/lib/python3.9/site-packages (from markdown-it-py>=2.2.0->rich->keras>=3.0.0->tensorflow) (0.1.2)\r\n"
     ]
    }
   ],
   "source": [
    "!pip install tensorflow scikit-learn opencv-python numpy matplotlib face_recognition"
   ]
  },
  {
   "cell_type": "markdown",
   "id": "6af27218",
   "metadata": {},
   "source": [
    "---\n",
    "\n",
    "## Load images for training\n",
    "\n",
    "The `load_eye_images` function is employed to read images from a target folder, resize them to a consistent size (80x80 pixels), and assign labels based on the provided binary flag for eye state (0 for open, 1 for closed).\n",
    "\n"
   ]
  },
  {
   "cell_type": "code",
   "execution_count": 2,
   "id": "4e6b314e",
   "metadata": {
    "ExecuteTime": {
     "end_time": "2024-06-09T14:26:13.886631Z",
     "start_time": "2024-06-09T14:26:13.393793Z"
    }
   },
   "outputs": [],
   "source": [
    "import os\n",
    "import cv2\n",
    "import numpy as np\n",
    "import matplotlib.pyplot as plt"
   ]
  },
  {
   "cell_type": "code",
   "execution_count": 3,
   "id": "b4ed255a",
   "metadata": {
    "ExecuteTime": {
     "end_time": "2024-06-09T14:26:13.890120Z",
     "start_time": "2024-06-09T14:26:13.888371Z"
    }
   },
   "outputs": [],
   "source": [
    "import os\n",
    "import cv2\n",
    "import numpy as np\n",
    "\n",
    "def load_eye_images(source_path, eye_state=0):\n",
    "    \"\"\"\n",
    "    Returns:\n",
    "        list: List of eye image data with corresponding labels.\n",
    "    \"\"\"\n",
    "    image_count = 0\n",
    "    error_count = 0\n",
    "    eye_images = []\n",
    "\n",
    "    for filename in os.listdir(source_path):\n",
    "        try:\n",
    "            img = cv2.imread(os.path.join(source_path, filename), cv2.IMREAD_GRAYSCALE)\n",
    "            img = cv2.resize(img, (80, 80))\n",
    "            eye_images.append([img, eye_state])\n",
    "        except Exception as e:\n",
    "            error_count += 1\n",
    "            print(f'Error Count: {error_count}, Exception: {e}')\n",
    "            continue\n",
    "\n",
    "        image_count += 1\n",
    "        if image_count % 500 == 0:\n",
    "            print(f'Successful Image Import Count: {image_count}')\n",
    "\n",
    "    return eye_images"
   ]
  },
  {
   "cell_type": "markdown",
   "id": "c8e4ad2c",
   "metadata": {},
   "source": [
    "\n",
    "---\n",
    "\n",
    "## Prepare the data for training\n",
    "\n",
    "Now, we need to organize and prepare the image data for model training. Images from folders representing open and closed eyes are loaded using the `load_eye_images` function. The data is then converted into NumPy arrays, normalized, and split into training and testing sets."
   ]
  },
  {
   "cell_type": "markdown",
   "id": "f12e0230",
   "metadata": {},
   "source": [
    "### Eye open"
   ]
  },
  {
   "cell_type": "code",
   "execution_count": 4,
   "id": "ecf10705",
   "metadata": {
    "ExecuteTime": {
     "end_time": "2024-06-09T14:26:14.332568Z",
     "start_time": "2024-06-09T14:26:13.891460Z"
    }
   },
   "outputs": [
    {
     "name": "stdout",
     "output_type": "stream",
     "text": [
      "Successful Image Import Count: 500\n"
     ]
    },
    {
     "data": {
      "text/plain": "<matplotlib.image.AxesImage at 0x126c65700>"
     },
     "execution_count": 4,
     "metadata": {},
     "output_type": "execute_result"
    },
    {
     "data": {
      "text/plain": "<Figure size 640x480 with 1 Axes>",
      "image/png": "[encoded data removed]"
     },
     "metadata": {},
     "output_type": "display_data"
    }
   ],
   "source": [
    "open_eye_folder = \"../train/OpenEye\"\n",
    "open_eye_data = load_eye_images(open_eye_folder, eye_state=0)\n",
    "\n",
    "# sample\n",
    "img, label = open_eye_data[20]\n",
    "plt.imshow(cv2.cvtColor(img, cv2.COLOR_BGR2RGB))"
   ]
  },
  {
   "cell_type": "markdown",
   "id": "67ee3fff",
   "metadata": {},
   "source": [
    "### Eye closed"
   ]
  },
  {
   "cell_type": "code",
   "execution_count": 5,
   "id": "62436f35",
   "metadata": {
    "ExecuteTime": {
     "end_time": "2024-06-09T14:26:14.839509Z",
     "start_time": "2024-06-09T14:26:14.333222Z"
    }
   },
   "outputs": [
    {
     "name": "stdout",
     "output_type": "stream",
     "text": [
      "Successful Image Import Count: 500\n"
     ]
    },
    {
     "data": {
      "text/plain": "<matplotlib.image.AxesImage at 0x126dc3b50>"
     },
     "execution_count": 5,
     "metadata": {},
     "output_type": "execute_result"
    },
    {
     "data": {
      "text/plain": "<Figure size 640x480 with 1 Axes>",
      "image/png": "[encoded data removed]"
     },
     "metadata": {},
     "output_type": "display_data"
    }
   ],
   "source": [
    "closed_eye_folder = \"../train/ClosedEye\"\n",
    "closed_eye_data = load_eye_images(closed_eye_folder, eye_state=1)\n",
    "\n",
    "# sample\n",
    "img, label = closed_eye_data[10]\n",
    "plt.imshow(cv2.cvtColor(img, cv2.COLOR_BGR2RGB))"
   ]
  },
  {
   "cell_type": "code",
   "execution_count": 6,
   "id": "944b3f97",
   "metadata": {
    "ExecuteTime": {
     "end_time": "2024-06-09T14:26:14.884107Z",
     "start_time": "2024-06-09T14:26:14.840396Z"
    }
   },
   "outputs": [],
   "source": [
    "eye_data = closed_eye_data + open_eye_data\n",
    "\n",
    "X = [] \n",
    "y = [] \n",
    "for features, label in eye_data: \n",
    "     X.append(features)\n",
    "     y.append(label)\n",
    "\n",
    "# Prepare data\n",
    "X = np.array(X).reshape(-1, 80, 80, 1) / 255.0\n",
    "y = np.array(y)"
   ]
  },
  {
   "cell_type": "code",
   "execution_count": 7,
   "id": "c3d0a005",
   "metadata": {
    "ExecuteTime": {
     "end_time": "2024-06-09T14:26:15.534069Z",
     "start_time": "2024-06-09T14:26:14.865726Z"
    }
   },
   "outputs": [],
   "source": [
    "from sklearn.model_selection import train_test_split\n",
    "\n",
    "# Split data\n",
    "X_train, X_test, y_train, y_test = train_test_split(X, y, stratify=y)"
   ]
  },
  {
   "cell_type": "markdown",
   "id": "a3451263",
   "metadata": {},
   "source": [
    "\n",
    "---\n",
    "\n",
    "## Build a Convolutional Neural Network (CNN) model\n",
    "\n",
    "We need to build a Convolutional Neural Network (CNN) Model for drowsiness detection. The model consists of convolutional layers, max-pooling layers, and dense layers. It is compiled using the Adam optimizer and binary crossentropy loss function.\n"
   ]
  },
  {
   "cell_type": "code",
   "execution_count": 8,
   "id": "ad40ec8e",
   "metadata": {
    "ExecuteTime": {
     "end_time": "2024-06-09T14:26:18.959840Z",
     "start_time": "2024-06-09T14:26:15.534315Z"
    }
   },
   "outputs": [
    {
     "name": "stderr",
     "output_type": "stream",
     "text": [
      "/Users/technophyle/Code/edge-server/driver-fatigue-detection/.venv/lib/python3.9/site-packages/urllib3/__init__.py:35: NotOpenSSLWarning: urllib3 v2 only supports OpenSSL 1.1.1+, currently the 'ssl' module is compiled with 'LibreSSL 2.8.3'. See: https://github.com/urllib3/urllib3/issues/3020\n",
      "  warnings.warn(\n"
     ]
    }
   ],
   "source": [
    "import tensorflow as tf\n",
    "from tensorflow import keras\n",
    "from keras.models import Sequential\n",
    "from keras.layers import Dense,Flatten,Conv2D,MaxPooling2D,Dropout"
   ]
  },
  {
   "cell_type": "code",
   "execution_count": 9,
   "id": "7f9c0a54",
   "metadata": {
    "ExecuteTime": {
     "end_time": "2024-06-09T14:26:19.108168Z",
     "start_time": "2024-06-09T14:26:19.032604Z"
    }
   },
   "outputs": [
    {
     "name": "stderr",
     "output_type": "stream",
     "text": [
      "/Users/technophyle/Code/edge-server/driver-fatigue-detection/.venv/lib/python3.9/site-packages/keras/src/layers/convolutional/base_conv.py:99: UserWarning: Do not pass an `input_shape`/`input_dim` argument to a layer. When using Sequential models, prefer using an `Input(shape)` object as the first layer in the model instead.\n",
      "  super().__init__(\n"
     ]
    }
   ],
   "source": [
    "# Build the CNN model\n",
    "cnn_model = Sequential()\n",
    "\n",
    "cnn_model.add(Conv2D(32, (3, 3), activation='relu', input_shape=(80, 80, 1)))\n",
    "cnn_model.add(Conv2D(32, (3, 3), activation='relu'))\n",
    "cnn_model.add(Conv2D(32, (3, 3), activation='relu'))\n",
    "cnn_model.add(MaxPooling2D(pool_size=(2, 2)))\n",
    "cnn_model.add(Conv2D(32, (3, 3), activation='relu'))\n",
    "cnn_model.add(Conv2D(32, (3, 3), activation='relu'))\n",
    "cnn_model.add(MaxPooling2D(pool_size=(2, 2)))\n",
    "cnn_model.add(Flatten())\n",
    "cnn_model.add(Dense(256, activation='relu'))\n",
    "cnn_model.add(Dropout(0.3))\n",
    "cnn_model.add(Dense(128, activation='relu'))\n",
    "cnn_model.add(Dropout(0.3))\n",
    "cnn_model.add(Dense(64, activation='relu'))\n",
    "cnn_model.add(Dropout(0.3))\n",
    "cnn_model.add(Dense(1, activation='sigmoid'))\n",
    "\n",
    "# Compile the model\n",
    "cnn_model.compile(loss='binary_crossentropy', optimizer='adam', metrics=[tf.keras.metrics.AUC(curve='PR')])"
   ]
  },
  {
   "cell_type": "markdown",
   "id": "92b189cf",
   "metadata": {},
   "source": [
    "\n",
    "---\n",
    "\n",
    "## Model Training and Evaluation with Accuracy Plotting\n",
    "\n",
    "The fit method is used to train the model with specified batch size, validation data, and number of epochs. The evaluate method calculates the loss and specified metrics on the test data."
   ]
  },
  {
   "cell_type": "markdown",
   "id": "e5383bbc",
   "metadata": {},
   "source": [
    "### Train the model"
   ]
  },
  {
   "cell_type": "code",
   "execution_count": 10,
   "id": "e297f5e9",
   "metadata": {
    "ExecuteTime": {
     "end_time": "2024-06-09T14:28:58.972610Z",
     "start_time": "2024-06-09T14:26:19.110619Z"
    }
   },
   "outputs": [
    {
     "name": "stdout",
     "output_type": "stream",
     "text": [
      "Epoch 1/24\n",
      "\u001B[1m2/2\u001B[0m \u001B[32m━━━━━━━━━━━━━━━━━━━━\u001B[0m\u001B[37m\u001B[0m \u001B[1m7s\u001B[0m 2s/step - auc: 0.4617 - loss: 0.6944 - val_auc: 0.6879 - val_loss: 0.6901\n",
      "Epoch 2/24\n",
      "\u001B[1m2/2\u001B[0m \u001B[32m━━━━━━━━━━━━━━━━━━━━\u001B[0m\u001B[37m\u001B[0m \u001B[1m6s\u001B[0m 2s/step - auc: 0.5686 - loss: 0.6893 - val_auc: 0.9226 - val_loss: 0.6735\n",
      "Epoch 3/24\n",
      "\u001B[1m2/2\u001B[0m \u001B[32m━━━━━━━━━━━━━━━━━━━━\u001B[0m\u001B[37m\u001B[0m \u001B[1m6s\u001B[0m 2s/step - auc: 0.6421 - loss: 0.6735 - val_auc: 0.9313 - val_loss: 0.6053\n",
      "Epoch 4/24\n",
      "\u001B[1m2/2\u001B[0m \u001B[32m━━━━━━━━━━━━━━━━━━━━\u001B[0m\u001B[37m\u001B[0m \u001B[1m6s\u001B[0m 2s/step - auc: 0.7592 - loss: 0.6160 - val_auc: 0.9089 - val_loss: 0.5414\n",
      "Epoch 5/24\n",
      "\u001B[1m2/2\u001B[0m \u001B[32m━━━━━━━━━━━━━━━━━━━━\u001B[0m\u001B[37m\u001B[0m \u001B[1m6s\u001B[0m 2s/step - auc: 0.7984 - loss: 0.5535 - val_auc: 0.9334 - val_loss: 0.4105\n",
      "Epoch 6/24\n",
      "\u001B[1m2/2\u001B[0m \u001B[32m━━━━━━━━━━━━━━━━━━━━\u001B[0m\u001B[37m\u001B[0m \u001B[1m6s\u001B[0m 2s/step - auc: 0.8967 - loss: 0.4523 - val_auc: 0.9362 - val_loss: 0.3435\n",
      "Epoch 7/24\n",
      "\u001B[1m2/2\u001B[0m \u001B[32m━━━━━━━━━━━━━━━━━━━━\u001B[0m\u001B[37m\u001B[0m \u001B[1m6s\u001B[0m 2s/step - auc: 0.8894 - loss: 0.4283 - val_auc: 0.9342 - val_loss: 0.3935\n",
      "Epoch 8/24\n",
      "\u001B[1m2/2\u001B[0m \u001B[32m━━━━━━━━━━━━━━━━━━━━\u001B[0m\u001B[37m\u001B[0m \u001B[1m6s\u001B[0m 2s/step - auc: 0.9324 - loss: 0.3801 - val_auc: 0.9455 - val_loss: 0.2992\n",
      "Epoch 9/24\n",
      "\u001B[1m2/2\u001B[0m \u001B[32m━━━━━━━━━━━━━━━━━━━━\u001B[0m\u001B[37m\u001B[0m \u001B[1m6s\u001B[0m 2s/step - auc: 0.9231 - loss: 0.3481 - val_auc: 0.9525 - val_loss: 0.2713\n",
      "Epoch 10/24\n",
      "\u001B[1m2/2\u001B[0m \u001B[32m━━━━━━━━━━━━━━━━━━━━\u001B[0m\u001B[37m\u001B[0m \u001B[1m6s\u001B[0m 2s/step - auc: 0.9512 - loss: 0.2775 - val_auc: 0.9547 - val_loss: 0.2715\n",
      "Epoch 11/24\n",
      "\u001B[1m2/2\u001B[0m \u001B[32m━━━━━━━━━━━━━━━━━━━━\u001B[0m\u001B[37m\u001B[0m \u001B[1m6s\u001B[0m 2s/step - auc: 0.9534 - loss: 0.2627 - val_auc: 0.9608 - val_loss: 0.2527\n",
      "Epoch 12/24\n",
      "\u001B[1m2/2\u001B[0m \u001B[32m━━━━━━━━━━━━━━━━━━━━\u001B[0m\u001B[37m\u001B[0m \u001B[1m6s\u001B[0m 2s/step - auc: 0.9589 - loss: 0.2294 - val_auc: 0.9656 - val_loss: 0.2294\n",
      "Epoch 13/24\n",
      "\u001B[1m2/2\u001B[0m \u001B[32m━━━━━━━━━━━━━━━━━━━━\u001B[0m\u001B[37m\u001B[0m \u001B[1m6s\u001B[0m 2s/step - auc: 0.9596 - loss: 0.2394 - val_auc: 0.9674 - val_loss: 0.2042\n",
      "Epoch 14/24\n",
      "\u001B[1m2/2\u001B[0m \u001B[32m━━━━━━━━━━━━━━━━━━━━\u001B[0m\u001B[37m\u001B[0m \u001B[1m8s\u001B[0m 2s/step - auc: 0.9728 - loss: 0.1877 - val_auc: 0.9721 - val_loss: 0.1942\n",
      "Epoch 15/24\n",
      "\u001B[1m2/2\u001B[0m \u001B[32m━━━━━━━━━━━━━━━━━━━━\u001B[0m\u001B[37m\u001B[0m \u001B[1m7s\u001B[0m 2s/step - auc: 0.9799 - loss: 0.1701 - val_auc: 0.9762 - val_loss: 0.2162\n",
      "Epoch 16/24\n",
      "\u001B[1m2/2\u001B[0m \u001B[32m━━━━━━━━━━━━━━━━━━━━\u001B[0m\u001B[37m\u001B[0m \u001B[1m6s\u001B[0m 2s/step - auc: 0.9766 - loss: 0.1839 - val_auc: 0.9819 - val_loss: 0.2046\n",
      "Epoch 17/24\n",
      "\u001B[1m2/2\u001B[0m \u001B[32m━━━━━━━━━━━━━━━━━━━━\u001B[0m\u001B[37m\u001B[0m \u001B[1m7s\u001B[0m 2s/step - auc: 0.9878 - loss: 0.1778 - val_auc: 0.9797 - val_loss: 0.1482\n",
      "Epoch 18/24\n",
      "\u001B[1m2/2\u001B[0m \u001B[32m━━━━━━━━━━━━━━━━━━━━\u001B[0m\u001B[37m\u001B[0m \u001B[1m6s\u001B[0m 2s/step - auc: 0.9825 - loss: 0.1339 - val_auc: 0.9788 - val_loss: 0.1599\n",
      "Epoch 19/24\n",
      "\u001B[1m2/2\u001B[0m \u001B[32m━━━━━━━━━━━━━━━━━━━━\u001B[0m\u001B[37m\u001B[0m \u001B[1m6s\u001B[0m 2s/step - auc: 0.9899 - loss: 0.1249 - val_auc: 0.9803 - val_loss: 0.1440\n",
      "Epoch 20/24\n",
      "\u001B[1m2/2\u001B[0m \u001B[32m━━━━━━━━━━━━━━━━━━━━\u001B[0m\u001B[37m\u001B[0m \u001B[1m6s\u001B[0m 2s/step - auc: 0.9903 - loss: 0.1067 - val_auc: 0.9805 - val_loss: 0.1461\n",
      "Epoch 21/24\n",
      "\u001B[1m2/2\u001B[0m \u001B[32m━━━━━━━━━━━━━━━━━━━━\u001B[0m\u001B[37m\u001B[0m \u001B[1m8s\u001B[0m 3s/step - auc: 0.9940 - loss: 0.0986 - val_auc: 0.9592 - val_loss: 0.2125\n",
      "Epoch 22/24\n",
      "\u001B[1m2/2\u001B[0m \u001B[32m━━━━━━━━━━━━━━━━━━━━\u001B[0m\u001B[37m\u001B[0m \u001B[1m8s\u001B[0m 2s/step - auc: 0.9911 - loss: 0.0980 - val_auc: 0.9816 - val_loss: 0.1332\n",
      "Epoch 23/24\n",
      "\u001B[1m2/2\u001B[0m \u001B[32m━━━━━━━━━━━━━━━━━━━━\u001B[0m\u001B[37m\u001B[0m \u001B[1m8s\u001B[0m 3s/step - auc: 0.9909 - loss: 0.0974 - val_auc: 0.9878 - val_loss: 0.1310\n",
      "Epoch 24/24\n",
      "\u001B[1m2/2\u001B[0m \u001B[32m━━━━━━━━━━━━━━━━━━━━\u001B[0m\u001B[37m\u001B[0m \u001B[1m9s\u001B[0m 2s/step - auc: 0.9948 - loss: 0.0888 - val_auc: 0.9828 - val_loss: 0.1344\n"
     ]
    }
   ],
   "source": [
    "history = cnn_model.fit(X_train, y_train, batch_size=800, validation_data=(X_test, y_test), epochs=24, verbose=1)"
   ]
  },
  {
   "cell_type": "markdown",
   "id": "262b69eb",
   "metadata": {},
   "source": [
    "### Evaluate the model"
   ]
  },
  {
   "cell_type": "code",
   "execution_count": 11,
   "id": "0abd184d",
   "metadata": {
    "ExecuteTime": {
     "end_time": "2024-06-09T14:28:59.688566Z",
     "start_time": "2024-06-09T14:28:58.974638Z"
    }
   },
   "outputs": [
    {
     "name": "stdout",
     "output_type": "stream",
     "text": [
      "\u001B[1m12/12\u001B[0m \u001B[32m━━━━━━━━━━━━━━━━━━━━\u001B[0m\u001B[37m\u001B[0m \u001B[1m1s\u001B[0m 55ms/step - auc: 0.9840 - loss: 0.1459\n"
     ]
    },
    {
     "data": {
      "text/plain": "[0.1343632936477661, 0.9827857613563538]"
     },
     "execution_count": 11,
     "metadata": {},
     "output_type": "execute_result"
    }
   ],
   "source": [
    "cnn_model.evaluate(X_test, y_test, verbose=1)"
   ]
  },
  {
   "cell_type": "markdown",
   "id": "dbc52187",
   "metadata": {},
   "source": [
    "### Plot the accuracy"
   ]
  },
  {
   "cell_type": "code",
   "execution_count": 12,
   "id": "436d633b",
   "metadata": {
    "ExecuteTime": {
     "end_time": "2024-06-09T14:28:59.799329Z",
     "start_time": "2024-06-09T14:28:59.702526Z"
    }
   },
   "outputs": [
    {
     "data": {
      "text/plain": "<Figure size 640x480 with 1 Axes>",
      "image/png": "[encoded data removed]"
     },
     "metadata": {},
     "output_type": "display_data"
    }
   ],
   "source": [
    "training_accuracy = history.history['auc']\n",
    "validation_accuracy = history.history['val_auc']\n",
    "\n",
    "# Plot accuracy\n",
    "plt.plot(training_accuracy, label='Training Accuracy')\n",
    "plt.plot(validation_accuracy, label='Validation Accuracy')\n",
    "plt.xlabel('Epochs')\n",
    "plt.ylabel('Accuracy')\n",
    "plt.title('Training and Validation Accuracy Over Epochs')\n",
    "plt.legend()\n",
    "plt.show()"
   ]
  },
  {
   "cell_type": "markdown",
   "id": "fbbee450",
   "metadata": {},
   "source": [
    "### Save the model"
   ]
  },
  {
   "cell_type": "code",
   "execution_count": 13,
   "id": "cb2822b9",
   "metadata": {
    "ExecuteTime": {
     "end_time": "2024-06-09T14:28:59.912887Z",
     "start_time": "2024-06-09T14:28:59.807465Z"
    }
   },
   "outputs": [],
   "source": [
    "cnn_model.save('drowsiness_model.keras')"
   ]
  },
  {
   "cell_type": "markdown",
   "id": "76098017",
   "metadata": {},
   "source": [
    "\n",
    "---\n",
    "\n",
    "## Alert system\n",
    "\n",
    "Frames from the webcam are processed in real-time, and the model predicts the state of the eyes. The loop also handles visual feedback and alerts based on the prediction"
   ]
  },
  {
   "cell_type": "markdown",
   "id": "668f7b60",
   "metadata": {},
   "source": [
    "\n",
    "### Load trained model"
   ]
  },
  {
   "cell_type": "code",
   "execution_count": 14,
   "id": "7faff2c4",
   "metadata": {
    "ExecuteTime": {
     "end_time": "2024-06-09T14:29:00.044177Z",
     "start_time": "2024-06-09T14:28:59.913234Z"
    }
   },
   "outputs": [],
   "source": [
    "trained_model = keras.models.load_model('drowsiness_model.keras',compile=False)"
   ]
  },
  {
   "cell_type": "markdown",
   "id": "c78335c3",
   "metadata": {},
   "source": [
    "\n",
    "### Extract eye region for prediction\n",
    "\n",
    "The eyes are cropped from a webcam frame. It utilizes the `face_recognition` library to detect facial features and accurately crop the eyes."
   ]
  },
  {
   "cell_type": "code",
   "execution_count": 15,
   "id": "c1c200d1",
   "metadata": {
    "ExecuteTime": {
     "end_time": "2024-06-09T14:29:01.373085Z",
     "start_time": "2024-06-09T14:29:00.043888Z"
    }
   },
   "outputs": [],
   "source": [
    "import face_recognition\n",
    "\n",
    "def extract_eye_region_for_prediction(frame):\n",
    "    # Detect facial landmarks\n",
    "    facial_landmarks_list = face_recognition.face_landmarks(frame)\n",
    "\n",
    "    if not facial_landmarks_list:\n",
    "        return None\n",
    "\n",
    "    # Get eye coordinates\n",
    "    try:\n",
    "        left_eye_coordinates = facial_landmarks_list[0]['left_eye']\n",
    "        right_eye_coordinates = facial_landmarks_list[0]['right_eye']\n",
    "    except KeyError:\n",
    "        return None\n",
    "\n",
    "    # Draw rectangles around each eye\n",
    "    for eye_coordinates in [left_eye_coordinates, right_eye_coordinates]:\n",
    "        x_max = max([x for x, y in eye_coordinates])\n",
    "        x_min = min([x for x, y in eye_coordinates])\n",
    "        y_max = max([y for x, y in eye_coordinates])\n",
    "        y_min = min([y for x, y in eye_coordinates])\n",
    "\n",
    "        # Calculate the range of x and y coordinates\n",
    "        x_range = x_max - x_min\n",
    "        y_range = y_max - y_min\n",
    "\n",
    "        if x_range > y_range:\n",
    "            right_bound = round(0.5 * x_range) + x_max\n",
    "            left_bound = x_min - round(0.5 * x_range)\n",
    "            bottom_bound = round((right_bound - left_bound - y_range) / 2) + y_max\n",
    "            top_bound = y_min - round((right_bound - left_bound - y_range) / 2)\n",
    "        else:\n",
    "            bottom_bound = round(0.5 * y_range) + y_max\n",
    "            top_bound = y_min - round(0.5 * y_range)\n",
    "            right_bound = round((bottom_bound - top_bound - x_range) / 2) + x_max\n",
    "            left_bound = x_min - round((bottom_bound - top_bound - x_range) / 2)\n",
    "\n",
    "        # Draw rectangle around the eye\n",
    "        cv2.rectangle(frame, (left_bound, top_bound), (right_bound, bottom_bound), (255, 0, 0), 2)\n",
    "\n",
    "    # Crop the image based on the coordinates\n",
    "    cropped_eye_region = frame[top_bound:bottom_bound + 1, left_bound:right_bound + 1]\n",
    "\n",
    "    # Convert to grayscale\n",
    "    gray_eye_region = cv2.cvtColor(cropped_eye_region, cv2.COLOR_BGR2GRAY)\n",
    "\n",
    "    # Resize & Reshape image\n",
    "    resized_cropped_eye_region = cv2.resize(gray_eye_region, (80, 80))\n",
    "    image_for_prediction = resized_cropped_eye_region.reshape(-1, 80, 80, 1)\n",
    "\n",
    "    return image_for_prediction\n"
   ]
  },
  {
   "cell_type": "markdown",
   "id": "bc310336",
   "metadata": {},
   "source": [
    "### Initialize the webcam"
   ]
  },
  {
   "cell_type": "code",
   "execution_count": 16,
   "id": "b2fd7ef0",
   "metadata": {
    "ExecuteTime": {
     "end_time": "2024-06-09T14:29:01.378721Z",
     "start_time": "2024-06-09T14:29:01.375358Z"
    }
   },
   "outputs": [],
   "source": [
    "def initialize_webcam():\n",
    "    cap = cv2.VideoCapture(0)\n",
    "    w = cap.get(cv2.CAP_PROP_FRAME_WIDTH)\n",
    "    h = cap.get(cv2.CAP_PROP_FRAME_HEIGHT)\n",
    "    \n",
    "    if not cap.isOpened():\n",
    "        raise IOError('Cannot open webcam')\n",
    "\n",
    "    return cap, w, h"
   ]
  },
  {
   "cell_type": "markdown",
   "id": "6fe300fe",
   "metadata": {},
   "source": [
    "\n",
    "### Run drowsiness detection\n",
    "\n",
    "It uses computer vision to detect drowsiness from a webcam feed. It continuously captures and processes frames, extracting the eye region for analysis. A pre-trained model predicts eye states, triggering a visual alert for prolonged eye closure, indicating potential drowsiness. (*App can be closed by pressing 'esc'*)"
   ]
  },
  {
   "cell_type": "code",
   "execution_count": 17,
   "id": "cffe6e15",
   "metadata": {
    "ExecuteTime": {
     "end_time": "2024-06-09T14:29:55.681504Z",
     "start_time": "2024-06-09T14:29:01.383390Z"
    }
   },
   "outputs": [
    {
     "name": "stdout",
     "output_type": "stream",
     "text": [
      "\u001B[1m1/1\u001B[0m \u001B[32m━━━━━━━━━━━━━━━━━━━━\u001B[0m\u001B[37m\u001B[0m \u001B[1m0s\u001B[0m 64ms/step\n",
      "\u001B[1m1/1\u001B[0m \u001B[32m━━━━━━━━━━━━━━━━━━━━\u001B[0m\u001B[37m\u001B[0m \u001B[1m0s\u001B[0m 49ms/step\n",
      "\u001B[1m1/1\u001B[0m \u001B[32m━━━━━━━━━━━━━━━━━━━━\u001B[0m\u001B[37m\u001B[0m \u001B[1m0s\u001B[0m 82ms/step\n",
      "\u001B[1m1/1\u001B[0m \u001B[32m━━━━━━━━━━━━━━━━━━━━\u001B[0m\u001B[37m\u001B[0m \u001B[1m0s\u001B[0m 27ms/step\n",
      "\u001B[1m1/1\u001B[0m \u001B[32m━━━━━━━━━━━━━━━━━━━━\u001B[0m\u001B[37m\u001B[0m \u001B[1m0s\u001B[0m 12ms/step\n",
      "\u001B[1m1/1\u001B[0m \u001B[32m━━━━━━━━━━━━━━━━━━━━\u001B[0m\u001B[37m\u001B[0m \u001B[1m0s\u001B[0m 13ms/step\n",
      "\u001B[1m1/1\u001B[0m \u001B[32m━━━━━━━━━━━━━━━━━━━━\u001B[0m\u001B[37m\u001B[0m \u001B[1m0s\u001B[0m 11ms/step\n",
      "\u001B[1m1/1\u001B[0m \u001B[32m━━━━━━━━━━━━━━━━━━━━\u001B[0m\u001B[37m\u001B[0m \u001B[1m0s\u001B[0m 10ms/step\n",
      "\u001B[1m1/1\u001B[0m \u001B[32m━━━━━━━━━━━━━━━━━━━━\u001B[0m\u001B[37m\u001B[0m \u001B[1m0s\u001B[0m 11ms/step\n",
      "\u001B[1m1/1\u001B[0m \u001B[32m━━━━━━━━━━━━━━━━━━━━\u001B[0m\u001B[37m\u001B[0m \u001B[1m0s\u001B[0m 10ms/step\n",
      "\u001B[1m1/1\u001B[0m \u001B[32m━━━━━━━━━━━━━━━━━━━━\u001B[0m\u001B[37m\u001B[0m \u001B[1m0s\u001B[0m 10ms/step\n",
      "\u001B[1m1/1\u001B[0m \u001B[32m━━━━━━━━━━━━━━━━━━━━\u001B[0m\u001B[37m\u001B[0m \u001B[1m0s\u001B[0m 11ms/step\n",
      "\u001B[1m1/1\u001B[0m \u001B[32m━━━━━━━━━━━━━━━━━━━━\u001B[0m\u001B[37m\u001B[0m \u001B[1m0s\u001B[0m 11ms/step\n",
      "\u001B[1m1/1\u001B[0m \u001B[32m━━━━━━━━━━━━━━━━━━━━\u001B[0m\u001B[37m\u001B[0m \u001B[1m0s\u001B[0m 10ms/step\n",
      "\u001B[1m1/1\u001B[0m \u001B[32m━━━━━━━━━━━━━━━━━━━━\u001B[0m\u001B[37m\u001B[0m \u001B[1m0s\u001B[0m 10ms/step\n",
      "\u001B[1m1/1\u001B[0m \u001B[32m━━━━━━━━━━━━━━━━━━━━\u001B[0m\u001B[37m\u001B[0m \u001B[1m0s\u001B[0m 10ms/step\n",
      "\u001B[1m1/1\u001B[0m \u001B[32m━━━━━━━━━━━━━━━━━━━━\u001B[0m\u001B[37m\u001B[0m \u001B[1m0s\u001B[0m 10ms/step\n",
      "\u001B[1m1/1\u001B[0m \u001B[32m━━━━━━━━━━━━━━━━━━━━\u001B[0m\u001B[37m\u001B[0m \u001B[1m0s\u001B[0m 10ms/step\n",
      "\u001B[1m1/1\u001B[0m \u001B[32m━━━━━━━━━━━━━━━━━━━━\u001B[0m\u001B[37m\u001B[0m \u001B[1m0s\u001B[0m 10ms/step\n",
      "\u001B[1m1/1\u001B[0m \u001B[32m━━━━━━━━━━━━━━━━━━━━\u001B[0m\u001B[37m\u001B[0m \u001B[1m0s\u001B[0m 10ms/step\n",
      "\u001B[1m1/1\u001B[0m \u001B[32m━━━━━━━━━━━━━━━━━━━━\u001B[0m\u001B[37m\u001B[0m \u001B[1m0s\u001B[0m 11ms/step\n",
      "\u001B[1m1/1\u001B[0m \u001B[32m━━━━━━━━━━━━━━━━━━━━\u001B[0m\u001B[37m\u001B[0m \u001B[1m0s\u001B[0m 10ms/step\n",
      "\u001B[1m1/1\u001B[0m \u001B[32m━━━━━━━━━━━━━━━━━━━━\u001B[0m\u001B[37m\u001B[0m \u001B[1m0s\u001B[0m 10ms/step\n",
      "\u001B[1m1/1\u001B[0m \u001B[32m━━━━━━━━━━━━━━━━━━━━\u001B[0m\u001B[37m\u001B[0m \u001B[1m0s\u001B[0m 10ms/step\n",
      "\u001B[1m1/1\u001B[0m \u001B[32m━━━━━━━━━━━━━━━━━━━━\u001B[0m\u001B[37m\u001B[0m \u001B[1m0s\u001B[0m 11ms/step\n",
      "\u001B[1m1/1\u001B[0m \u001B[32m━━━━━━━━━━━━━━━━━━━━\u001B[0m\u001B[37m\u001B[0m \u001B[1m0s\u001B[0m 10ms/step\n",
      "\u001B[1m1/1\u001B[0m \u001B[32m━━━━━━━━━━━━━━━━━━━━\u001B[0m\u001B[37m\u001B[0m \u001B[1m0s\u001B[0m 10ms/step\n",
      "\u001B[1m1/1\u001B[0m \u001B[32m━━━━━━━━━━━━━━━━━━━━\u001B[0m\u001B[37m\u001B[0m \u001B[1m0s\u001B[0m 10ms/step\n",
      "\u001B[1m1/1\u001B[0m \u001B[32m━━━━━━━━━━━━━━━━━━━━\u001B[0m\u001B[37m\u001B[0m \u001B[1m0s\u001B[0m 10ms/step\n",
      "\u001B[1m1/1\u001B[0m \u001B[32m━━━━━━━━━━━━━━━━━━━━\u001B[0m\u001B[37m\u001B[0m \u001B[1m0s\u001B[0m 11ms/step\n",
      "\u001B[1m1/1\u001B[0m \u001B[32m━━━━━━━━━━━━━━━━━━━━\u001B[0m\u001B[37m\u001B[0m \u001B[1m0s\u001B[0m 10ms/step\n",
      "\u001B[1m1/1\u001B[0m \u001B[32m━━━━━━━━━━━━━━━━━━━━\u001B[0m\u001B[37m\u001B[0m \u001B[1m0s\u001B[0m 10ms/step\n",
      "\u001B[1m1/1\u001B[0m \u001B[32m━━━━━━━━━━━━━━━━━━━━\u001B[0m\u001B[37m\u001B[0m \u001B[1m0s\u001B[0m 10ms/step\n",
      "\u001B[1m1/1\u001B[0m \u001B[32m━━━━━━━━━━━━━━━━━━━━\u001B[0m\u001B[37m\u001B[0m \u001B[1m0s\u001B[0m 11ms/step\n",
      "\u001B[1m1/1\u001B[0m \u001B[32m━━━━━━━━━━━━━━━━━━━━\u001B[0m\u001B[37m\u001B[0m \u001B[1m0s\u001B[0m 10ms/step\n",
      "\u001B[1m1/1\u001B[0m \u001B[32m━━━━━━━━━━━━━━━━━━━━\u001B[0m\u001B[37m\u001B[0m \u001B[1m0s\u001B[0m 10ms/step\n",
      "\u001B[1m1/1\u001B[0m \u001B[32m━━━━━━━━━━━━━━━━━━━━\u001B[0m\u001B[37m\u001B[0m \u001B[1m0s\u001B[0m 13ms/step\n",
      "\u001B[1m1/1\u001B[0m \u001B[32m━━━━━━━━━━━━━━━━━━━━\u001B[0m\u001B[37m\u001B[0m \u001B[1m0s\u001B[0m 11ms/step\n",
      "\u001B[1m1/1\u001B[0m \u001B[32m━━━━━━━━━━━━━━━━━━━━\u001B[0m\u001B[37m\u001B[0m \u001B[1m0s\u001B[0m 10ms/step\n",
      "\u001B[1m1/1\u001B[0m \u001B[32m━━━━━━━━━━━━━━━━━━━━\u001B[0m\u001B[37m\u001B[0m \u001B[1m0s\u001B[0m 10ms/step\n",
      "\u001B[1m1/1\u001B[0m \u001B[32m━━━━━━━━━━━━━━━━━━━━\u001B[0m\u001B[37m\u001B[0m \u001B[1m0s\u001B[0m 11ms/step\n",
      "\u001B[1m1/1\u001B[0m \u001B[32m━━━━━━━━━━━━━━━━━━━━\u001B[0m\u001B[37m\u001B[0m \u001B[1m0s\u001B[0m 10ms/step\n",
      "\u001B[1m1/1\u001B[0m \u001B[32m━━━━━━━━━━━━━━━━━━━━\u001B[0m\u001B[37m\u001B[0m \u001B[1m0s\u001B[0m 9ms/step\n",
      "\u001B[1m1/1\u001B[0m \u001B[32m━━━━━━━━━━━━━━━━━━━━\u001B[0m\u001B[37m\u001B[0m \u001B[1m0s\u001B[0m 12ms/step\n",
      "\u001B[1m1/1\u001B[0m \u001B[32m━━━━━━━━━━━━━━━━━━━━\u001B[0m\u001B[37m\u001B[0m \u001B[1m0s\u001B[0m 11ms/step\n",
      "\u001B[1m1/1\u001B[0m \u001B[32m━━━━━━━━━━━━━━━━━━━━\u001B[0m\u001B[37m\u001B[0m \u001B[1m0s\u001B[0m 22ms/step\n",
      "\u001B[1m1/1\u001B[0m \u001B[32m━━━━━━━━━━━━━━━━━━━━\u001B[0m\u001B[37m\u001B[0m \u001B[1m0s\u001B[0m 12ms/step\n",
      "\u001B[1m1/1\u001B[0m \u001B[32m━━━━━━━━━━━━━━━━━━━━\u001B[0m\u001B[37m\u001B[0m \u001B[1m0s\u001B[0m 11ms/step\n",
      "\u001B[1m1/1\u001B[0m \u001B[32m━━━━━━━━━━━━━━━━━━━━\u001B[0m\u001B[37m\u001B[0m \u001B[1m0s\u001B[0m 10ms/step\n",
      "\u001B[1m1/1\u001B[0m \u001B[32m━━━━━━━━━━━━━━━━━━━━\u001B[0m\u001B[37m\u001B[0m \u001B[1m0s\u001B[0m 11ms/step\n",
      "\u001B[1m1/1\u001B[0m \u001B[32m━━━━━━━━━━━━━━━━━━━━\u001B[0m\u001B[37m\u001B[0m \u001B[1m0s\u001B[0m 10ms/step\n",
      "\u001B[1m1/1\u001B[0m \u001B[32m━━━━━━━━━━━━━━━━━━━━\u001B[0m\u001B[37m\u001B[0m \u001B[1m0s\u001B[0m 10ms/step\n",
      "\u001B[1m1/1\u001B[0m \u001B[32m━━━━━━━━━━━━━━━━━━━━\u001B[0m\u001B[37m\u001B[0m \u001B[1m0s\u001B[0m 10ms/step\n",
      "\u001B[1m1/1\u001B[0m \u001B[32m━━━━━━━━━━━━━━━━━━━━\u001B[0m\u001B[37m\u001B[0m \u001B[1m0s\u001B[0m 10ms/step\n",
      "\u001B[1m1/1\u001B[0m \u001B[32m━━━━━━━━━━━━━━━━━━━━\u001B[0m\u001B[37m\u001B[0m \u001B[1m0s\u001B[0m 10ms/step\n",
      "\u001B[1m1/1\u001B[0m \u001B[32m━━━━━━━━━━━━━━━━━━━━\u001B[0m\u001B[37m\u001B[0m \u001B[1m0s\u001B[0m 10ms/step\n",
      "\u001B[1m1/1\u001B[0m \u001B[32m━━━━━━━━━━━━━━━━━━━━\u001B[0m\u001B[37m\u001B[0m \u001B[1m0s\u001B[0m 10ms/step\n",
      "\u001B[1m1/1\u001B[0m \u001B[32m━━━━━━━━━━━━━━━━━━━━\u001B[0m\u001B[37m\u001B[0m \u001B[1m0s\u001B[0m 10ms/step\n",
      "\u001B[1m1/1\u001B[0m \u001B[32m━━━━━━━━━━━━━━━━━━━━\u001B[0m\u001B[37m\u001B[0m \u001B[1m0s\u001B[0m 11ms/step\n",
      "\u001B[1m1/1\u001B[0m \u001B[32m━━━━━━━━━━━━━━━━━━━━\u001B[0m\u001B[37m\u001B[0m \u001B[1m0s\u001B[0m 10ms/step\n",
      "\u001B[1m1/1\u001B[0m \u001B[32m━━━━━━━━━━━━━━━━━━━━\u001B[0m\u001B[37m\u001B[0m \u001B[1m0s\u001B[0m 10ms/step\n",
      "\u001B[1m1/1\u001B[0m \u001B[32m━━━━━━━━━━━━━━━━━━━━\u001B[0m\u001B[37m\u001B[0m \u001B[1m0s\u001B[0m 10ms/step\n",
      "\u001B[1m1/1\u001B[0m \u001B[32m━━━━━━━━━━━━━━━━━━━━\u001B[0m\u001B[37m\u001B[0m \u001B[1m0s\u001B[0m 10ms/step\n",
      "\u001B[1m1/1\u001B[0m \u001B[32m━━━━━━━━━━━━━━━━━━━━\u001B[0m\u001B[37m\u001B[0m \u001B[1m0s\u001B[0m 11ms/step\n",
      "\u001B[1m1/1\u001B[0m \u001B[32m━━━━━━━━━━━━━━━━━━━━\u001B[0m\u001B[37m\u001B[0m \u001B[1m0s\u001B[0m 10ms/step\n",
      "\u001B[1m1/1\u001B[0m \u001B[32m━━━━━━━━━━━━━━━━━━━━\u001B[0m\u001B[37m\u001B[0m \u001B[1m0s\u001B[0m 10ms/step\n",
      "\u001B[1m1/1\u001B[0m \u001B[32m━━━━━━━━━━━━━━━━━━━━\u001B[0m\u001B[37m\u001B[0m \u001B[1m0s\u001B[0m 10ms/step\n",
      "\u001B[1m1/1\u001B[0m \u001B[32m━━━━━━━━━━━━━━━━━━━━\u001B[0m\u001B[37m\u001B[0m \u001B[1m0s\u001B[0m 10ms/step\n",
      "\u001B[1m1/1\u001B[0m \u001B[32m━━━━━━━━━━━━━━━━━━━━\u001B[0m\u001B[37m\u001B[0m \u001B[1m0s\u001B[0m 11ms/step\n",
      "\u001B[1m1/1\u001B[0m \u001B[32m━━━━━━━━━━━━━━━━━━━━\u001B[0m\u001B[37m\u001B[0m \u001B[1m0s\u001B[0m 13ms/step\n",
      "\u001B[1m1/1\u001B[0m \u001B[32m━━━━━━━━━━━━━━━━━━━━\u001B[0m\u001B[37m\u001B[0m \u001B[1m0s\u001B[0m 11ms/step\n",
      "\u001B[1m1/1\u001B[0m \u001B[32m━━━━━━━━━━━━━━━━━━━━\u001B[0m\u001B[37m\u001B[0m \u001B[1m0s\u001B[0m 10ms/step\n",
      "\u001B[1m1/1\u001B[0m \u001B[32m━━━━━━━━━━━━━━━━━━━━\u001B[0m\u001B[37m\u001B[0m \u001B[1m0s\u001B[0m 12ms/step\n",
      "\u001B[1m1/1\u001B[0m \u001B[32m━━━━━━━━━━━━━━━━━━━━\u001B[0m\u001B[37m\u001B[0m \u001B[1m0s\u001B[0m 11ms/step\n",
      "\u001B[1m1/1\u001B[0m \u001B[32m━━━━━━━━━━━━━━━━━━━━\u001B[0m\u001B[37m\u001B[0m \u001B[1m0s\u001B[0m 10ms/step\n",
      "\u001B[1m1/1\u001B[0m \u001B[32m━━━━━━━━━━━━━━━━━━━━\u001B[0m\u001B[37m\u001B[0m \u001B[1m0s\u001B[0m 10ms/step\n",
      "\u001B[1m1/1\u001B[0m \u001B[32m━━━━━━━━━━━━━━━━━━━━\u001B[0m\u001B[37m\u001B[0m \u001B[1m0s\u001B[0m 10ms/step\n",
      "\u001B[1m1/1\u001B[0m \u001B[32m━━━━━━━━━━━━━━━━━━━━\u001B[0m\u001B[37m\u001B[0m \u001B[1m0s\u001B[0m 10ms/step\n",
      "\u001B[1m1/1\u001B[0m \u001B[32m━━━━━━━━━━━━━━━━━━━━\u001B[0m\u001B[37m\u001B[0m \u001B[1m0s\u001B[0m 9ms/step\n",
      "\u001B[1m1/1\u001B[0m \u001B[32m━━━━━━━━━━━━━━━━━━━━\u001B[0m\u001B[37m\u001B[0m \u001B[1m0s\u001B[0m 10ms/step\n",
      "\u001B[1m1/1\u001B[0m \u001B[32m━━━━━━━━━━━━━━━━━━━━\u001B[0m\u001B[37m\u001B[0m \u001B[1m0s\u001B[0m 10ms/step\n",
      "\u001B[1m1/1\u001B[0m \u001B[32m━━━━━━━━━━━━━━━━━━━━\u001B[0m\u001B[37m\u001B[0m \u001B[1m0s\u001B[0m 10ms/step\n",
      "\u001B[1m1/1\u001B[0m \u001B[32m━━━━━━━━━━━━━━━━━━━━\u001B[0m\u001B[37m\u001B[0m \u001B[1m0s\u001B[0m 10ms/step\n",
      "\u001B[1m1/1\u001B[0m \u001B[32m━━━━━━━━━━━━━━━━━━━━\u001B[0m\u001B[37m\u001B[0m \u001B[1m0s\u001B[0m 10ms/step\n",
      "\u001B[1m1/1\u001B[0m \u001B[32m━━━━━━━━━━━━━━━━━━━━\u001B[0m\u001B[37m\u001B[0m \u001B[1m0s\u001B[0m 10ms/step\n",
      "\u001B[1m1/1\u001B[0m \u001B[32m━━━━━━━━━━━━━━━━━━━━\u001B[0m\u001B[37m\u001B[0m \u001B[1m0s\u001B[0m 10ms/step\n",
      "\u001B[1m1/1\u001B[0m \u001B[32m━━━━━━━━━━━━━━━━━━━━\u001B[0m\u001B[37m\u001B[0m \u001B[1m0s\u001B[0m 11ms/step\n",
      "\u001B[1m1/1\u001B[0m \u001B[32m━━━━━━━━━━━━━━━━━━━━\u001B[0m\u001B[37m\u001B[0m \u001B[1m0s\u001B[0m 10ms/step\n",
      "\u001B[1m1/1\u001B[0m \u001B[32m━━━━━━━━━━━━━━━━━━━━\u001B[0m\u001B[37m\u001B[0m \u001B[1m0s\u001B[0m 10ms/step\n",
      "\u001B[1m1/1\u001B[0m \u001B[32m━━━━━━━━━━━━━━━━━━━━\u001B[0m\u001B[37m\u001B[0m \u001B[1m0s\u001B[0m 31ms/step\n",
      "\u001B[1m1/1\u001B[0m \u001B[32m━━━━━━━━━━━━━━━━━━━━\u001B[0m\u001B[37m\u001B[0m \u001B[1m0s\u001B[0m 11ms/step\n",
      "\u001B[1m1/1\u001B[0m \u001B[32m━━━━━━━━━━━━━━━━━━━━\u001B[0m\u001B[37m\u001B[0m \u001B[1m0s\u001B[0m 10ms/step\n",
      "\u001B[1m1/1\u001B[0m \u001B[32m━━━━━━━━━━━━━━━━━━━━\u001B[0m\u001B[37m\u001B[0m \u001B[1m0s\u001B[0m 11ms/step\n",
      "\u001B[1m1/1\u001B[0m \u001B[32m━━━━━━━━━━━━━━━━━━━━\u001B[0m\u001B[37m\u001B[0m \u001B[1m0s\u001B[0m 10ms/step\n",
      "\u001B[1m1/1\u001B[0m \u001B[32m━━━━━━━━━━━━━━━━━━━━\u001B[0m\u001B[37m\u001B[0m \u001B[1m0s\u001B[0m 10ms/step\n",
      "\u001B[1m1/1\u001B[0m \u001B[32m━━━━━━━━━━━━━━━━━━━━\u001B[0m\u001B[37m\u001B[0m \u001B[1m0s\u001B[0m 10ms/step\n",
      "\u001B[1m1/1\u001B[0m \u001B[32m━━━━━━━━━━━━━━━━━━━━\u001B[0m\u001B[37m\u001B[0m \u001B[1m0s\u001B[0m 11ms/step\n",
      "\u001B[1m1/1\u001B[0m \u001B[32m━━━━━━━━━━━━━━━━━━━━\u001B[0m\u001B[37m\u001B[0m \u001B[1m0s\u001B[0m 11ms/step\n",
      "\u001B[1m1/1\u001B[0m \u001B[32m━━━━━━━━━━━━━━━━━━━━\u001B[0m\u001B[37m\u001B[0m \u001B[1m0s\u001B[0m 10ms/step\n",
      "\u001B[1m1/1\u001B[0m \u001B[32m━━━━━━━━━━━━━━━━━━━━\u001B[0m\u001B[37m\u001B[0m \u001B[1m0s\u001B[0m 11ms/step\n",
      "\u001B[1m1/1\u001B[0m \u001B[32m━━━━━━━━━━━━━━━━━━━━\u001B[0m\u001B[37m\u001B[0m \u001B[1m0s\u001B[0m 9ms/step\n",
      "\u001B[1m1/1\u001B[0m \u001B[32m━━━━━━━━━━━━━━━━━━━━\u001B[0m\u001B[37m\u001B[0m \u001B[1m0s\u001B[0m 10ms/step\n",
      "\u001B[1m1/1\u001B[0m \u001B[32m━━━━━━━━━━━━━━━━━━━━\u001B[0m\u001B[37m\u001B[0m \u001B[1m0s\u001B[0m 10ms/step\n",
      "\u001B[1m1/1\u001B[0m \u001B[32m━━━━━━━━━━━━━━━━━━━━\u001B[0m\u001B[37m\u001B[0m \u001B[1m0s\u001B[0m 10ms/step\n",
      "\u001B[1m1/1\u001B[0m \u001B[32m━━━━━━━━━━━━━━━━━━━━\u001B[0m\u001B[37m\u001B[0m \u001B[1m0s\u001B[0m 10ms/step\n",
      "\u001B[1m1/1\u001B[0m \u001B[32m━━━━━━━━━━━━━━━━━━━━\u001B[0m\u001B[37m\u001B[0m \u001B[1m0s\u001B[0m 10ms/step\n",
      "\u001B[1m1/1\u001B[0m \u001B[32m━━━━━━━━━━━━━━━━━━━━\u001B[0m\u001B[37m\u001B[0m \u001B[1m0s\u001B[0m 12ms/step\n",
      "\u001B[1m1/1\u001B[0m \u001B[32m━━━━━━━━━━━━━━━━━━━━\u001B[0m\u001B[37m\u001B[0m \u001B[1m0s\u001B[0m 10ms/step\n",
      "\u001B[1m1/1\u001B[0m \u001B[32m━━━━━━━━━━━━━━━━━━━━\u001B[0m\u001B[37m\u001B[0m \u001B[1m0s\u001B[0m 10ms/step\n",
      "\u001B[1m1/1\u001B[0m \u001B[32m━━━━━━━━━━━━━━━━━━━━\u001B[0m\u001B[37m\u001B[0m \u001B[1m0s\u001B[0m 10ms/step\n",
      "\u001B[1m1/1\u001B[0m \u001B[32m━━━━━━━━━━━━━━━━━━━━\u001B[0m\u001B[37m\u001B[0m \u001B[1m0s\u001B[0m 10ms/step\n",
      "\u001B[1m1/1\u001B[0m \u001B[32m━━━━━━━━━━━━━━━━━━━━\u001B[0m\u001B[37m\u001B[0m \u001B[1m0s\u001B[0m 11ms/step\n",
      "\u001B[1m1/1\u001B[0m \u001B[32m━━━━━━━━━━━━━━━━━━━━\u001B[0m\u001B[37m\u001B[0m \u001B[1m0s\u001B[0m 12ms/step\n",
      "\u001B[1m1/1\u001B[0m \u001B[32m━━━━━━━━━━━━━━━━━━━━\u001B[0m\u001B[37m\u001B[0m \u001B[1m0s\u001B[0m 10ms/step\n",
      "\u001B[1m1/1\u001B[0m \u001B[32m━━━━━━━━━━━━━━━━━━━━\u001B[0m\u001B[37m\u001B[0m \u001B[1m0s\u001B[0m 10ms/step\n",
      "\u001B[1m1/1\u001B[0m \u001B[32m━━━━━━━━━━━━━━━━━━━━\u001B[0m\u001B[37m\u001B[0m \u001B[1m0s\u001B[0m 10ms/step\n",
      "\u001B[1m1/1\u001B[0m \u001B[32m━━━━━━━━━━━━━━━━━━━━\u001B[0m\u001B[37m\u001B[0m \u001B[1m0s\u001B[0m 10ms/step\n",
      "\u001B[1m1/1\u001B[0m \u001B[32m━━━━━━━━━━━━━━━━━━━━\u001B[0m\u001B[37m\u001B[0m \u001B[1m0s\u001B[0m 10ms/step\n",
      "\u001B[1m1/1\u001B[0m \u001B[32m━━━━━━━━━━━━━━━━━━━━\u001B[0m\u001B[37m\u001B[0m \u001B[1m0s\u001B[0m 10ms/step\n",
      "\u001B[1m1/1\u001B[0m \u001B[32m━━━━━━━━━━━━━━━━━━━━\u001B[0m\u001B[37m\u001B[0m \u001B[1m0s\u001B[0m 11ms/step\n",
      "\u001B[1m1/1\u001B[0m \u001B[32m━━━━━━━━━━━━━━━━━━━━\u001B[0m\u001B[37m\u001B[0m \u001B[1m0s\u001B[0m 11ms/step\n",
      "\u001B[1m1/1\u001B[0m \u001B[32m━━━━━━━━━━━━━━━━━━━━\u001B[0m\u001B[37m\u001B[0m \u001B[1m0s\u001B[0m 11ms/step\n",
      "\u001B[1m1/1\u001B[0m \u001B[32m━━━━━━━━━━━━━━━━━━━━\u001B[0m\u001B[37m\u001B[0m \u001B[1m0s\u001B[0m 11ms/step\n",
      "\u001B[1m1/1\u001B[0m \u001B[32m━━━━━━━━━━━━━━━━━━━━\u001B[0m\u001B[37m\u001B[0m \u001B[1m0s\u001B[0m 10ms/step\n",
      "\u001B[1m1/1\u001B[0m \u001B[32m━━━━━━━━━━━━━━━━━━━━\u001B[0m\u001B[37m\u001B[0m \u001B[1m0s\u001B[0m 12ms/step\n",
      "\u001B[1m1/1\u001B[0m \u001B[32m━━━━━━━━━━━━━━━━━━━━\u001B[0m\u001B[37m\u001B[0m \u001B[1m0s\u001B[0m 11ms/step\n",
      "\u001B[1m1/1\u001B[0m \u001B[32m━━━━━━━━━━━━━━━━━━━━\u001B[0m\u001B[37m\u001B[0m \u001B[1m0s\u001B[0m 12ms/step\n",
      "\u001B[1m1/1\u001B[0m \u001B[32m━━━━━━━━━━━━━━━━━━━━\u001B[0m\u001B[37m\u001B[0m \u001B[1m0s\u001B[0m 11ms/step\n",
      "\u001B[1m1/1\u001B[0m \u001B[32m━━━━━━━━━━━━━━━━━━━━\u001B[0m\u001B[37m\u001B[0m \u001B[1m0s\u001B[0m 10ms/step\n",
      "\u001B[1m1/1\u001B[0m \u001B[32m━━━━━━━━━━━━━━━━━━━━\u001B[0m\u001B[37m\u001B[0m \u001B[1m0s\u001B[0m 26ms/step\n",
      "\u001B[1m1/1\u001B[0m \u001B[32m━━━━━━━━━━━━━━━━━━━━\u001B[0m\u001B[37m\u001B[0m \u001B[1m0s\u001B[0m 11ms/step\n",
      "\u001B[1m1/1\u001B[0m \u001B[32m━━━━━━━━━━━━━━━━━━━━\u001B[0m\u001B[37m\u001B[0m \u001B[1m0s\u001B[0m 10ms/step\n",
      "\u001B[1m1/1\u001B[0m \u001B[32m━━━━━━━━━━━━━━━━━━━━\u001B[0m\u001B[37m\u001B[0m \u001B[1m0s\u001B[0m 35ms/step\n",
      "\u001B[1m1/1\u001B[0m \u001B[32m━━━━━━━━━━━━━━━━━━━━\u001B[0m\u001B[37m\u001B[0m \u001B[1m0s\u001B[0m 16ms/step\n",
      "\u001B[1m1/1\u001B[0m \u001B[32m━━━━━━━━━━━━━━━━━━━━\u001B[0m\u001B[37m\u001B[0m \u001B[1m0s\u001B[0m 13ms/step\n",
      "\u001B[1m1/1\u001B[0m \u001B[32m━━━━━━━━━━━━━━━━━━━━\u001B[0m\u001B[37m\u001B[0m \u001B[1m0s\u001B[0m 11ms/step\n"
     ]
    }
   ],
   "source": [
    "# Initialize webcam\n",
    "webcam, width, height = initialize_webcam()\n",
    "\n",
    "# Initialize counters\n",
    "frame_count = 0\n",
    "blink_counter = 0\n",
    "\n",
    "# Run a loop while the webcam is active\n",
    "while True:\n",
    "    ret, frame = webcam.read()\n",
    "\n",
    "    # Use only every other frame to improve performance\n",
    "    if frame_count == 0:\n",
    "        frame_count += 1\n",
    "        pass\n",
    "    else:\n",
    "        frame_count = 0\n",
    "        continue\n",
    "\n",
    "    # Process the frame to get the eye for prediction\n",
    "    eye_image = extract_eye_region_for_prediction(frame)\n",
    "    try:\n",
    "        eye_image = eye_image / 255.0\n",
    "    except:\n",
    "        continue\n",
    "\n",
    "    # Get prediction\n",
    "    prediction = trained_model.predict(eye_image)\n",
    "\n",
    "    # Display status based on the prediction\n",
    "    if prediction < 0.5:\n",
    "        blink_counter = 0\n",
    "        status = 'Open'\n",
    "        \n",
    "    else:\n",
    "        blink_counter += 1\n",
    "        status = 'Closed'\n",
    "\n",
    "        # If the blink counter exceeds 2, show alert message\n",
    "        if blink_counter > 2:\n",
    "            cv2.rectangle(frame, (round(width / 2) - 160, round(height) - 200), (round(width / 2) + 175, round(height) - 120), (0, 0, 255), -1)\n",
    "            cv2.putText(frame, \"Blink, Don't Sleep!\", (round(width / 2) - 136, round(height) - 146), cv2.FONT_HERSHEY_SIMPLEX, 1, (255, 255, 255), 2, cv2.LINE_4)\n",
    "            cv2.imshow('Drowsiness Detection', frame)\n",
    "            k = cv2.waitKey(1)\n",
    "            blink_counter = 1\n",
    "            continue\n",
    "\n",
    "    # Show prediction on Screen\n",
    "    cv2.putText(frame, f'{prediction}', (10, 30), cv2.FONT_HERSHEY_SIMPLEX, 0.7, (255, 0, 0), 2, cv2.LINE_AA)\n",
    "    cv2.putText(frame, 'Status: ' + status, (10, 70), cv2.FONT_HERSHEY_SIMPLEX, 1, (255, 0, 0), 2, cv2.LINE_AA)\n",
    "            \n",
    "    # Display the result\n",
    "    cv2.imshow('Drowsiness Detection', frame)\n",
    "    \n",
    "    # Press 'Esc' to exit\n",
    "    if cv2.waitKey(1) & 0xFF == 27:\n",
    "        break\n",
    "\n",
    "# Cleanup\n",
    "webcam.release()\n",
    "cv2.destroyAllWindows()\n"
   ]
  }
 ],
 "metadata": {
  "kernelspec": {
   "display_name": "Python 3 (ipykernel)",
   "language": "python",
   "name": "python3"
  },
  "language_info": {
   "codemirror_mode": {
    "name": "ipython",
    "version": 3
   },
   "file_extension": ".py",
   "mimetype": "text/x-python",
   "name": "python",
   "nbconvert_exporter": "python",
   "pygments_lexer": "ipython3",
   "version": "3.11.5"
  }
 },
 "nbformat": 4,
 "nbformat_minor": 5
}
